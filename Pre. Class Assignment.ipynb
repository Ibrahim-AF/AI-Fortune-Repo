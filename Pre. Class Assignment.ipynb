{
 "cells": [
  {
   "cell_type": "markdown",
   "metadata": {},
   "source": [
    "[Problem 1] Create using the exponentiation arithmetic operator"
   ]
  },
  {
   "cell_type": "code",
   "execution_count": null,
   "metadata": {},
   "outputs": [],
   "source": [
    "THICKNESS_PAPER = 0.00008\n",
    "folded_thickness_paper = THICKNESS_PAPER*2**43\n",
    "print(\"Thickness of paper : {} meters\". format(folded_thickness_paper))"
   ]
  },
  {
   "cell_type": "markdown",
   "metadata": {},
   "source": [
    "[Problem 2] Unit Conversion"
   ]
  },
  {
   "cell_type": "code",
   "execution_count": null,
   "metadata": {},
   "outputs": [],
   "source": [
    "# Convert meters to kilometers and display with two decimal places\n",
    "\n",
    "print(\"Thickness of paper:{:.2f} kilometers\". format(folded_thickness_paper/10000))"
   ]
  },
  {
   "cell_type": "markdown",
   "metadata": {},
   "source": [
    "[Problem 3] Create using a for statement\n"
   ]
  },
  {
   "cell_type": "code",
   "execution_count": null,
   "metadata": {},
   "outputs": [],
   "source": [
    "def paper(num_folds=43, thickness=0.00008):\n",
    "    for i in range(1, num_folds):\n",
    "      thickness = thickness*2*2*2*2*2*2*2*2*2*2*2*2*2*2*2*2*2*2*2*2*2*2*2*2*2*2*2*2*2*2*2*2*2*2*2*2*2*2*2*2*2\n",
    "      \n",
    "      print(\"Thickness: {} meters\". format(thicknes))\n",
    "      if thickness >= 10000:\n",
    "         print(\"Thickness: {:.2f} km\". format(thickness/10000))\n",
    "      else:\n",
    "        print(\"Thickness: {:.2f} meters\". format(thickness/10000))"
   ]
  },
  {
   "cell_type": "markdown",
   "metadata": {},
   "source": [
    "[Problem 4] Comparison of calculation time"
   ]
  },
  {
   "cell_type": "code",
   "execution_count": null,
   "metadata": {},
   "outputs": [],
   "source": [
    "import time\n",
    "start = time.time()\n",
    "THICKNESS_PAPER = 0.00008\n",
    "folded_thickness_paper = THICKNESS_PAPER*2**43\n",
    "print(\"Thickness of paper: {}meters\". format(folded_thickness_paper))\n",
    "elapsed_time = time.time() - start\n",
    "print(\"Elapsed time : {}[s]\". format(elapsed_time))"
   ]
  },
  {
   "cell_type": "code",
   "execution_count": null,
   "metadata": {},
   "outputs": [],
   "source": [
    "%%timeit\n",
    "folded_thickness_paper = THICKNESS_PAPER*2**43\n",
    "folded_thickness_paper"
   ]
  },
  {
   "cell_type": "markdown",
   "metadata": {},
   "source": [
    "[Problem 5] Saving to a list"
   ]
  },
  {
   "cell_type": "code",
   "execution_count": null,
   "metadata": {},
   "outputs": [],
   "source": [
    "listx = [0.00008]\n",
    "fold_num = 44\n",
    "thickness_paper = 0.00008\n",
    "for i in range(1, fold_num):\n",
    "  folded_thickness_paper = thickness_paper*2**i\n",
    "  listx.append(folded_thickness_paper)\n",
    "  print(listx)\n",
    "  print(len(listx))"
   ]
  },
  {
   "cell_type": "markdown",
   "metadata": {},
   "source": [
    "[Problem 6] Displaying a line graph"
   ]
  },
  {
   "cell_type": "code",
   "execution_count": null,
   "metadata": {},
   "outputs": [],
   "source": [
    "import matplotlib.pyplot as plt\n",
    "%matplotlib inline\n",
    "\n",
    "plt.title(\"thickness of folded paper\")\n",
    "plt.xlabel(\"number of foldes\")\n",
    "plt.ylabel(\"thickness[M]\")\n",
    "plt.tick_params(labelsize=10) \n",
    "plt.plot(listx, linewidth=2.0)\n",
    "plt.show()"
   ]
  },
  {
   "cell_type": "markdown",
   "metadata": {},
   "source": [
    "[Problem 7] Customizing graphs"
   ]
  },
  {
   "cell_type": "code",
   "execution_count": null,
   "metadata": {},
   "outputs": [],
   "source": [
    "import matplotlib.pyplot as plt\n",
    "%matplotlib inline\n",
    "\n",
    "plt.title(\"thickness of folded paper\")\n",
    "plt.xlabel(\"number of foldes\")\n",
    "plt.ylabel(\"thickness[M]\")\n",
    "plt.tick_params(labelsize=9) \n",
    "plt.plot(listx, linewidth=5.0, color=\"orange\")\n",
    "plt.tick_params(direction='out', length=2, width=2, colors='b')\n",
    "plt.plot(listx, 'ro')\n",
    "plt.grid()\n",
    "plt.show()"
   ]
  }
 ],
 "metadata": {
  "kernelspec": {
   "display_name": "Python 3",
   "language": "python",
   "name": "python3"
  },
  "language_info": {
   "codemirror_mode": {
    "name": "ipython",
    "version": 3
   },
   "file_extension": ".py",
   "mimetype": "text/x-python",
   "name": "python",
   "nbconvert_exporter": "python",
   "pygments_lexer": "ipython3",
   "version": "3.8.5"
  }
 },
 "nbformat": 4,
 "nbformat_minor": 4
}
