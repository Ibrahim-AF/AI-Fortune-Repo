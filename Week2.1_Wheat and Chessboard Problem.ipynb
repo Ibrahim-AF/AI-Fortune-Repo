{
  "nbformat": 4,
  "nbformat_minor": 0,
  "metadata": {
    "colab": {
      "name": "Week2.1_Wheat and Chessboard Problem.ipynb",
      "provenance": [],
      "collapsed_sections": []
    },
    "kernelspec": {
      "name": "python3",
      "display_name": "Python 3"
    }
  },
  "cells": [
    {
      "cell_type": "code",
      "metadata": {
        "id": "QoF9rkYG1PY2"
      },
      "source": [
        "n_squares = 4\r\n",
        "small_board_list = [ 1 ] \r\n",
        "\r\n",
        "for _ in range (n_squares - 1 ): \r\n",
        "    small_board_list.append ( 2 * small_board_list [- 1 ]) \r\n",
        "    print ( \"Arrange wheat on a plate of 4 squares (list): {}\" .format (small_board_list))"
      ],
      "execution_count": null,
      "outputs": []
    },
    {
      "cell_type": "markdown",
      "metadata": {
        "id": "YJw8pIkL2Dri"
      },
      "source": [
        "[Problem 1] Number of wheat on a 2 x 2 square chess board"
      ]
    },
    {
      "cell_type": "code",
      "metadata": {
        "id": "GmKFII7u2V6K"
      },
      "source": [
        "import numpy as np\r\n",
        "small_board_ndarray = np.array (small_board_list) \r\n",
        "chess_board_ndarray = small_board_ndarray.reshape(2, 2)\r\n",
        "print(f'The shape of small_board_ndarray was {small_board_ndarray.shape} and the one of chess_board_ndarray is: {chess_board_ndarray.shape}')\r\n",
        "\r\n",
        "print ( \"The number of wheat on a 2 x 2 square board (ndarray) is: {}\" .format (chess_board_ndarray))\r\n",
        "\r\n",
        "print('The number of wheat for the upper left square is:',chess_board_ndarray[0,0])\r\n",
        "print('The number of wheat for the upper right square is:',chess_board_ndarray[0,1])\r\n",
        "print('The number of wheat for the lower left square is:',chess_board_ndarray[1,0])\r\n",
        "print('The number of wheat for the lower right square is:',chess_board_ndarray[1,1])\r\n",
        "\r\n",
        "print('The total number of wheat is:',chess_board_ndarray.sum())"
      ],
      "execution_count": null,
      "outputs": []
    },
    {
      "cell_type": "markdown",
      "metadata": {
        "id": "liUJPhkP3kAH"
      },
      "source": [
        "[Problem 2] Expansion to n × m mass"
      ]
    },
    {
      "cell_type": "code",
      "metadata": {
        "id": "lQFLXllY2Z9-"
      },
      "source": [
        "def number_of_wheat(n,m):\r\n",
        "    n_squares = n*m\r\n",
        "    small_board_list = [ 1 ] \r\n",
        "\r\n",
        "    for _ in range (n_squares- 1 ): \r\n",
        "        small_board_list.append ( 2 * small_board_list [- 1 ]) \r\n",
        "\r\n",
        "    import numpy as np\r\n",
        "    small_board_ndarray = np.array (small_board_list)\r\n",
        "    chess_board_ndarray = small_board_ndarray.reshape(n, m)\r\n",
        "    print ( f'The number of wheat on a {n} x {m} square plate (ndarray) is: {chess_board_ndarray}')\r\n",
        "    \r\n",
        "number_of_wheat(4,4)\r\n",
        "number_of_wheat(8,8)"
      ],
      "execution_count": null,
      "outputs": []
    },
    {
      "cell_type": "markdown",
      "metadata": {
        "id": "nw71btKT5Uro"
      },
      "source": [
        "[Problem 3] Total number of wheat"
      ]
    },
    {
      "cell_type": "code",
      "metadata": {
        "id": "TXTd1Nvu5XQV"
      },
      "source": [
        "def total_wheat(n,m):\r\n",
        "    n_squares = n*m\r\n",
        "    small_board_list = [ 1 ] \r\n",
        "\r\n",
        "    for _ in range (n_squares- 1 ): \r\n",
        "        small_board_list.append ( 2 * small_board_list [- 1 ]) \r\n",
        "\r\n",
        "    import numpy as np\r\n",
        "    small_board_ndarray = np.array (small_board_list)\r\n",
        "    chess_board_ndarray = small_board_ndarray.reshape(n, m)\r\n",
        "    print(f'The total number of wheat on a chess board of {n} x {m} squares is: {chess_board_ndarray.sum()}')\r\n",
        "    print('The average number of wheat for each column is:',chess_board_ndarray.mean(axis=0))\r\n",
        "\r\n",
        "    import matplotlib.pyplot as plt\r\n",
        "    %matplotlib inline\r\n",
        "    \r\n",
        "    plt.xlabel(\"column\")\r\n",
        "    plt.ylabel(\"number\")\r\n",
        "    plt.title(\"number in each column\")\r\n",
        "    plt.bar(np.arange(8), np.array(chess_board_ndarray.mean(axis=0)))\r\n",
        "    plt.show()\r\n",
        "total_wheat(8,8)"
      ],
      "execution_count": null,
      "outputs": []
    },
    {
      "cell_type": "markdown",
      "metadata": {
        "id": "3UN3ZYjs5a6y"
      },
      "source": [
        "[Problem 4] Heat map of the number of wheat"
      ]
    },
    {
      "cell_type": "code",
      "metadata": {
        "id": "O2BhtQis5eli"
      },
      "source": [
        "import matplotlib.pyplot as plt\r\n",
        "%matplotlib inline\r\n",
        "\r\n",
        "plt.xlabel(\"column\")\r\n",
        "plt.ylabel(\"row\")\r\n",
        "plt.title(\"heatmap\")\r\n",
        "plt.pcolor(np.array([0, 1, 3, 5, 7, 9, 11, 13]).reshape(4, 2))\r\n",
        "plt.show()"
      ],
      "execution_count": null,
      "outputs": []
    },
    {
      "cell_type": "code",
      "metadata": {
        "id": "HR8fHLvr5osD"
      },
      "source": [
        "\r\n",
        "def heat_map(n,m):\r\n",
        "    n_squares = n*m\r\n",
        "    small_board_list = [ 1 ] \r\n",
        "\r\n",
        "    for _ in range (n_squares- 1 ): \r\n",
        "        small_board_list.append ( 2 * small_board_list [- 1 ]) \r\n",
        "        \r\n",
        "    import numpy as np\r\n",
        "    small_board_ndarray = np.array (small_board_list)\r\n",
        "    chess_board_ndarray = small_board_ndarray.reshape(n, m)\r\n",
        "   \r\n",
        "    print('The total number of wheat for each column is:',chess_board_ndarray.sum(axis=0))\r\n",
        "    import matplotlib.pyplot as plt\r\n",
        "    %matplotlib inline\r\n",
        "\r\n",
        "    plt.xlabel(\"column\")\r\n",
        "    plt.ylabel(\"row\")\r\n",
        "    plt.title(\"heatmap\")\r\n",
        "    plt.pcolor(np.array(chess_board_ndarray.sum(axis=0)).reshape(4, 2))\r\n",
        "    plt.show()\r\n",
        "heat_map(8,8)"
      ],
      "execution_count": null,
      "outputs": []
    },
    {
      "cell_type": "markdown",
      "metadata": {
        "id": "3lA6U13I5s93"
      },
      "source": [
        "[Problem 5] How many times is the second half of the first half?"
      ]
    },
    {
      "cell_type": "code",
      "metadata": {
        "id": "itHdP04Q5tvI"
      },
      "source": [
        "def multiple(n,m):\r\n",
        "    n_squares = n*m\r\n",
        "    small_board_list = [ 1 ] \r\n",
        "\r\n",
        "    for _ in range (n_squares- 1 ): \r\n",
        "        small_board_list.append ( 2 * small_board_list [- 1 ])\r\n",
        "         \r\n",
        "    import numpy as np\r\n",
        "    small_board_ndarray = np.array (small_board_list)\r\n",
        "    chess_board_ndarray = small_board_ndarray.reshape(n, m)\r\n",
        "    \r\n",
        "    row = chess_board_ndarray.sum(axis=0)\r\n",
        "    a = int(len(row)/2)\r\n",
        "    \r\n",
        "    first_half = row[0:a].sum()\r\n",
        "    second_half = row[a:].sum()\r\n",
        "    mul = second_half/first_half\r\n",
        "    \r\n",
        "    print(f'The number of times the second half of the chess board is greater than the first half for a {n} x {m} board is:',mul)\r\n",
        "\r\n",
        "multiple(4,4)\r\n",
        "multiple(8,8)"
      ],
      "execution_count": null,
      "outputs": []
    },
    {
      "cell_type": "markdown",
      "metadata": {
        "id": "VcuFlXRj56Dq"
      },
      "source": [
        "[Problem 6] Expansion to n × m mass by another calculation method"
      ]
    },
    {
      "cell_type": "code",
      "metadata": {
        "id": "GOknKCte56p2"
      },
      "source": [
        "\r\n",
        "def number_of_wheat(n,m):\r\n",
        "    n_squares = n*m\r\n",
        "\r\n",
        "    indices_of_squares = np.arange(n_squares).astype(np.uint64)\r\n",
        "    board_ndarray = 2**indices_of_squares\r\n",
        "    chess_board_ndarray = board_ndarray.reshape(n, m)\r\n",
        "    \r\n",
        "    print ( f'Number of wheat on a {n} x {m} chess board is {board_ndarray.sum()}')\r\n",
        "    print ( f\"Arrange wheat on a {n} x {m} square board (ndarray): {chess_board_ndarray}\")\r\n",
        "    \r\n",
        "number_of_wheat(8,8)"
      ],
      "execution_count": null,
      "outputs": []
    },
    {
      "cell_type": "markdown",
      "metadata": {
        "id": "f6AmF6JW6BDv"
      },
      "source": [
        "[Problem 7] Comparing calculation times"
      ]
    },
    {
      "cell_type": "code",
      "metadata": {
        "id": "soP-Pg-a6Bny"
      },
      "source": [
        "%%timeit -r1 -n1\r\n",
        "n_squares = 4\r\n",
        "small_board_list = [ 1 ]\r\n",
        "\r\n",
        "for _ in range (n_squares- 1 ): \r\n",
        "    small_board_list.append ( 2 * small_board_list [- 1 ]) \r\n",
        "    print ( \"Arrange wheat on a plate of 4 squares (list): {}\" .format (small_board_list))"
      ],
      "execution_count": null,
      "outputs": []
    },
    {
      "cell_type": "code",
      "metadata": {
        "id": "BSsbiH3x6Ogu"
      },
      "source": [
        "%%timeit -r1 -n1\r\n",
        "n_squares = 4\r\n",
        "small_board_ndarray = np.array([1])\r\n",
        "\r\n",
        "for _ in range(n_squares - 1):\r\n",
        "    small_board_ndarray = np.append(small_board_ndarray, 2*small_board_ndarray[-1])\r\n",
        "print ( \" Arrange wheat on a 4-square board (ndarray): {} \" .format (small_board_ndarray))"
      ],
      "execution_count": null,
      "outputs": []
    },
    {
      "cell_type": "code",
      "metadata": {
        "id": "GauhgXCg6TK_"
      },
      "source": [
        "\r\n",
        "%%timeit -r1 -n1\r\n",
        "n_squares = 4\r\n",
        "indices_of_squares = np.arange(n_squares)\r\n",
        "small_board_ndarray = 2**indices_of_squares\r\n",
        "print ( \" Arrange wheat on a 4-square board (ndarray): {} \" .format (small_board_ndarray))"
      ],
      "execution_count": null,
      "outputs": []
    },
    {
      "cell_type": "code",
      "metadata": {
        "id": "RgMmDK7fBCMT"
      },
      "source": [
        "#Comparison\r\n",
        "\r\n",
        "#The calculation speed seems to be greater using the first method when the for loop is used without np.append().\r\n",
        "\r\n",
        "#On the other hand, when I used it with np.append(), the execution takes more time and it is slower than using broadcast."
      ],
      "execution_count": null,
      "outputs": []
    }
  ]
}