{
  "nbformat": 4,
  "nbformat_minor": 0,
  "metadata": {
    "colab": {
      "name": "Week2.3_Matrix product.ipynb",
      "provenance": [],
      "collapsed_sections": []
    },
    "kernelspec": {
      "name": "python3",
      "display_name": "Python 3"
    }
  },
  "cells": [
    {
      "cell_type": "code",
      "metadata": {
        "id": "FL144mKW8aRG"
      },
      "source": [
        "#When expressed in NumPy, it becomes as follows\r\n",
        "import numpy as np\r\n",
        "a_ndarray = np.array([[-1, 2, 3], [4, -5, 6], [7, 8, -9]])\r\n",
        "b_ndarray = np.array([[0, 2, 1], [0, 2, -8], [2, 9, -1]])"
      ],
      "execution_count": 4,
      "outputs": []
    },
    {
      "cell_type": "markdown",
      "metadata": {
        "id": "QaO6uT-TyewZ"
      },
      "source": [
        "[Problem 1] Matrix product is calculated manually"
      ]
    },
    {
      "cell_type": "code",
      "metadata": {
        "id": "ALjiWK72yh4F"
      },
      "source": [
        "\r\n",
        "#The product of 2 matrices is calculated by multiplying the rows of the first one from left to right with each column of the second matrix from top to bottom.\r\n",
        "\r\n",
        "#The calculation process of A x B is as follows\r\n",
        "\r\n",
        "A = [[-1, 2, 3], [4, -5, 6], [7, 8, -9]] \r\n",
        "B = [[0, 2, 1], [0, 2, -8], [2, 9, -1]]\r\n",
        "\r\n",
        "A0xB0: -10 + 20 +32 = 6\r\n",
        "A0xB1:-12 + 22 +39 = 29\r\n",
        "A0xB2:-11 + 2-8 +3-1 = -20\r\n",
        "A1xB0: 40 - 50 +62 = 12\r\n",
        "A1xB1: 42 - 52 +69 = 52\r\n",
        "A1xB2: 41 - 5-8 +6-1 = 38\r\n",
        "A2xB0: 70 + 80 -92 = -18\r\n",
        "A2xB1: 72 + 82 -99 = -51\r\n",
        "A2xB2: 71 + 8-8 -9*-1 = -48\r\n",
        "\r\n",
        "AxB = [[6, 29, -20], [12, 52, 38], [-18, -52, -48]]"
      ],
      "execution_count": 5,
      "outputs": []
    },
    {
      "cell_type": "markdown",
      "metadata": {
        "id": "6QGFVV99LGse"
      },
      "source": [
        "Similarly using Mockdown notation\r\n",
        "\r\n",
        "$$A =\\begin{bmatrix}-1, & 2, & 3\\\\4, & -5, & 6\\\\7, & 8, & -9\\end{bmatrix}$$,\r\n",
        "\r\n",
        "$$B =\\begin{bmatrix}0, & 2, & 1\\\\0, & 2, & -8\\\\2, & 9, & -1\\end{bmatrix}$$,\r\n",
        "\r\n",
        "$$AB =\\begin{bmatrix}0+0+6, & -2+4+27, &-1+(-16)+(-3)\\\\0+0+12, & 8+(-10)+54, & 4+40+(-6)\\\\0+0+(-18), & 14+16+(-81), & 7+(-64)+(-9)\\end{bmatrix}$$,\r\n",
        "\r\n",
        "$$AB =\\begin{bmatrix}6, & 29, & -20\\\\12, & 52, & 38\\\\-18, & -51, & -48\\end {bmatrix}$$"
      ]
    },
    {
      "cell_type": "markdown",
      "metadata": {
        "id": "BUtHhWgdyyTT"
      },
      "source": [
        "[Problem 2] Calculation by NumPy function"
      ]
    },
    {
      "cell_type": "code",
      "metadata": {
        "id": "TRi5O6w5yxJn",
        "colab": {
          "base_uri": "https://localhost:8080/"
        },
        "outputId": "90bbc0a7-d668-442d-9f11-0f2acb03c761"
      },
      "source": [
        "import  numpy  as np\r\n",
        "a_ndarray = np.array([[-1, 2, 3], [4, -5, 6], [7, 8, -9]])\r\n",
        "b_ndarray = np.array([[0, 2, 1], [0, 2, -8], [2, 9, -1]])\r\n",
        "np.matmul(a_ndarray,b_ndarray)"
      ],
      "execution_count": 6,
      "outputs": [
        {
          "output_type": "execute_result",
          "data": {
            "text/plain": [
              "array([[  6,  29, -20],\n",
              "       [ 12,  52,  38],\n",
              "       [-18, -51, -48]])"
            ]
          },
          "metadata": {
            "tags": []
          },
          "execution_count": 6
        }
      ]
    },
    {
      "cell_type": "markdown",
      "metadata": {
        "id": "PXSUqxGozCGb"
      },
      "source": [
        "[Problem 3] Implementation of calculation of a certain element"
      ]
    },
    {
      "cell_type": "code",
      "metadata": {
        "id": "m7qbYJ1MzC1W",
        "colab": {
          "base_uri": "https://localhost:8080/"
        },
        "outputId": "885ab716-a949-4884-a3c7-6323b363356d"
      },
      "source": [
        "\r\n",
        "print(f'The calculation of 0th row of matrix A and the 0th column of matrix B is:',a_ndarray[0,0] * b_ndarray[0,0] + a_ndarray[0,1] *b_ndarray[1,0] + a_ndarray[0,2] *b_ndarray[2,0])"
      ],
      "execution_count": 7,
      "outputs": [
        {
          "output_type": "stream",
          "text": [
            "The calculation of 0th row of matrix A and the 0th column of matrix B is: 6\n"
          ],
          "name": "stdout"
        }
      ]
    },
    {
      "cell_type": "markdown",
      "metadata": {
        "id": "fRqQ8AzizH4M"
      },
      "source": [
        "[Problem 4] Creating a function that performs matrix multiplication"
      ]
    },
    {
      "cell_type": "code",
      "metadata": {
        "id": "uJkjHe7PzLnu",
        "colab": {
          "base_uri": "https://localhost:8080/"
        },
        "outputId": "0607966a-e7ae-4159-af08-8e1f69a5d79b"
      },
      "source": [
        "def matrix_multiplication(matrix_A, matrix_B):\r\n",
        "    matrix = np.zeros(9)\r\n",
        "    product = matrix.reshape(3, 3)\r\n",
        "   \r\n",
        "    for x in range(len(matrix_A)):\r\n",
        "        for y in range(len(matrix_B[0])):\r\n",
        "            for z in range(len(matrix_B)):\r\n",
        "                product[x][y] += matrix_A[x][z] * matrix_B[z][y]\r\n",
        "    print(product)\r\n",
        "matrix_multiplication(a_ndarray, b_ndarray)"
      ],
      "execution_count": 8,
      "outputs": [
        {
          "output_type": "stream",
          "text": [
            "[[  6.  29. -20.]\n",
            " [ 12.  52.  38.]\n",
            " [-18. -51. -48.]]\n"
          ],
          "name": "stdout"
        }
      ]
    },
    {
      "cell_type": "markdown",
      "metadata": {
        "id": "SQmnTQ65zPMh"
      },
      "source": [
        "[Problem 5] Judge the input whose calculation is not defined"
      ]
    },
    {
      "cell_type": "code",
      "metadata": {
        "id": "H-xi7g3NzbjR"
      },
      "source": [
        "d_ndarray = np.array([[-1, 2, 3], [4, -5, 6]])\r\n",
        "e_ndarray = np.array([[-9, 8, 7], [6, -5, 4]])"
      ],
      "execution_count": 9,
      "outputs": []
    },
    {
      "cell_type": "code",
      "metadata": {
        "id": "LlILYUTjQDRx",
        "colab": {
          "base_uri": "https://localhost:8080/"
        },
        "outputId": "f2dadc20-df56-4aff-fabb-bcc644cb3938"
      },
      "source": [
        "d_ndarray = np.array([[-1, 2, 3], [4, -5, 6]])\r\n",
        "e_ndarray = np.array([[-9, 8, 7], [6, -5, 4]])\r\n",
        "\r\n",
        "if d_ndarray.shape[0] == e_ndarray.shape[1]:\r\n",
        "    print(product_of_matrix(d_ndarray, e_ndarray))\r\n",
        "else:\r\n",
        "    print(\"Sorry! the following matrices are not aligned!\")"
      ],
      "execution_count": 10,
      "outputs": [
        {
          "output_type": "stream",
          "text": [
            "Sorry! the following matrices are not aligned!\n"
          ],
          "name": "stdout"
        }
      ]
    },
    {
      "cell_type": "markdown",
      "metadata": {
        "id": "pDmhMQODzy41"
      },
      "source": [
        "[Problem 6] Transposition"
      ]
    },
    {
      "cell_type": "code",
      "metadata": {
        "id": "Isy5cedAz2qk",
        "colab": {
          "base_uri": "https://localhost:8080/"
        },
        "outputId": "72cb2d51-a254-43e4-9902-006eb780c838"
      },
      "source": [
        "print('The product of the matrix when transposing matrix a is: ')\r\n",
        "np.dot(a_ndarray.T,b_ndarray)"
      ],
      "execution_count": 11,
      "outputs": [
        {
          "output_type": "stream",
          "text": [
            "The product of the matrix when transposing matrix a is: \n"
          ],
          "name": "stdout"
        },
        {
          "output_type": "execute_result",
          "data": {
            "text/plain": [
              "array([[ 14,  69, -40],\n",
              "       [ 16,  66,  34],\n",
              "       [-18, -63, -36]])"
            ]
          },
          "metadata": {
            "tags": []
          },
          "execution_count": 11
        }
      ]
    }
  ]
}