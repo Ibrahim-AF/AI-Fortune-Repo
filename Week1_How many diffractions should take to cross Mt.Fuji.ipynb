{
  "nbformat": 4,
  "nbformat_minor": 0,
  "metadata": {
    "colab": {
      "name": "Week1 _ How many diffractions should take to cross Mt. Fuji.ipynb",
      "provenance": [],
      "collapsed_sections": []
    },
    "kernelspec": {
      "name": "python3",
      "display_name": "Python 3"
    }
  },
  "cells": [
    {
      "cell_type": "markdown",
      "metadata": {
        "id": "u_evrVowyigl"
      },
      "source": [
        "[Problem 1] Minimum number of folds over Mt. Fuji"
      ]
    },
    {
      "cell_type": "code",
      "metadata": {
        "colab": {
          "base_uri": "https://localhost:8080/"
        },
        "id": "UbMzH4vKyMVv",
        "outputId": "0bef60b9-facd-4824-bc58-ec9f8af385e5"
      },
      "source": [
        "Thick0=0.00008\r\n",
        "distance=3776\r\n",
        "\r\n",
        "for n in range(1,44):\r\n",
        "    thick=Thick0*2**n\r\n",
        "    if(thick>=distance):\r\n",
        "        break\r\n",
        "print(\"Number of times of folds if exceeds Mt. Fuji is = {}\".format(n))"
      ],
      "execution_count": 45,
      "outputs": [
        {
          "output_type": "stream",
          "text": [
            "Number of times of folds if exceeds Mt. Fuji is = 26\n"
          ],
          "name": "stdout"
        }
      ]
    },
    {
      "cell_type": "markdown",
      "metadata": {
        "id": "mW7UONTz5YWp"
      },
      "source": [
        "[Problem 2] Creating a function corresponding to an arbitrary thickness"
      ]
    },
    {
      "cell_type": "code",
      "metadata": {
        "id": "dROU868jyqNN",
        "colab": {
          "base_uri": "https://localhost:8080/",
          "height": 35
        },
        "outputId": "a5fc4cb8-967a-4728-ef22-80c911da97f2"
      },
      "source": [
        "import math\r\n",
        "\r\n",
        "def arbitrary_thickness(distance):\r\n",
        "    thickness = 0.00008\r\n",
        "    \r\n",
        "    num_of_bends = math.log2(distance/thickness)\r\n",
        "    \r\n",
        "    return f'The number of times a paper {distance}m thick bends is : {round(num_of_bends)}'\r\n",
        "    \r\n",
        "arbitrary_thickness(20000)"
      ],
      "execution_count": 55,
      "outputs": [
        {
          "output_type": "execute_result",
          "data": {
            "application/vnd.google.colaboratory.intrinsic+json": {
              "type": "string"
            },
            "text/plain": [
              "'The number of times a paper 20000m thick bends is : 28'"
            ]
          },
          "metadata": {
            "tags": []
          },
          "execution_count": 55
        }
      ]
    },
    {
      "cell_type": "code",
      "metadata": {
        "colab": {
          "base_uri": "https://localhost:8080/",
          "height": 35
        },
        "id": "SWNe495uvaL6",
        "outputId": "3b96baf9-8c6e-4fd3-cac4-08d3a39d8939"
      },
      "source": [
        "#Number of times to fold a paper to reach the nearest neighboring star, Proxima centauri\r\n",
        "thickness(40208000000000)"
      ],
      "execution_count": 52,
      "outputs": [
        {
          "output_type": "execute_result",
          "data": {
            "application/vnd.google.colaboratory.intrinsic+json": {
              "type": "string"
            },
            "text/plain": [
              "'The number of times a paper 40208000000000m thick bends is : 59'"
            ]
          },
          "metadata": {
            "tags": []
          },
          "execution_count": 52
        }
      ]
    },
    {
      "cell_type": "markdown",
      "metadata": {
        "id": "CoPvVQam6JQe"
      },
      "source": [
        "[Problem 3] Required paper length"
      ]
    },
    {
      "cell_type": "code",
      "metadata": {
        "colab": {
          "base_uri": "https://localhost:8080/",
          "height": 35
        },
        "id": "7jmSSMqwlhqB",
        "outputId": "64323c21-b69a-4393-a7c4-129f24e3e8ee"
      },
      "source": [
        "def paper_length(distance):\r\n",
        "    thickness = 0.00008\r\n",
        "    \r\n",
        "    num_of_bends = math.log2(distance/thickness)\r\n",
        "    \r\n",
        "    length = (thickness*math.pi/6)*(2**num_of_bends + 4)*(2**num_of_bends - 1)\r\n",
        "    \r\n",
        "    return f'The length of the paper necessary to reach a thickness of {distance}m is: {round(length)}m'\r\n",
        "paper_length(100)"
      ],
      "execution_count": 57,
      "outputs": [
        {
          "output_type": "execute_result",
          "data": {
            "application/vnd.google.colaboratory.intrinsic+json": {
              "type": "string"
            },
            "text/plain": [
              "'The length of the paper necessary to reach a thickness of 100m is: 65450004m'"
            ]
          },
          "metadata": {
            "tags": []
          },
          "execution_count": 57
        }
      ]
    },
    {
      "cell_type": "code",
      "metadata": {
        "colab": {
          "base_uri": "https://localhost:8080/",
          "height": 35
        },
        "id": "M6Wjh2jDxn2u",
        "outputId": "bcfcc653-c192-4cd9-ae24-80dbf51137cc"
      },
      "source": [
        "#length of paper needed to reach the Moon\r\n",
        "paper_length(384400)"
      ],
      "execution_count": 58,
      "outputs": [
        {
          "output_type": "execute_result",
          "data": {
            "application/vnd.google.colaboratory.intrinsic+json": {
              "type": "string"
            },
            "text/plain": [
              "'The length of the paper necessary to reach a thickness of 384400m is: 967108930282445m'"
            ]
          },
          "metadata": {
            "tags": []
          },
          "execution_count": 58
        }
      ]
    },
    {
      "cell_type": "code",
      "metadata": {
        "colab": {
          "base_uri": "https://localhost:8080/",
          "height": 35
        },
        "id": "e4qUA4i4xtLN",
        "outputId": "4e777b57-31fb-4026-b940-3f770ad5dba7"
      },
      "source": [
        "#length of paper needed to reach Mt. Fuji from Sierra Leone\r\n",
        "paper_length(14235000)"
      ],
      "execution_count": 59,
      "outputs": [
        {
          "output_type": "execute_result",
          "data": {
            "application/vnd.google.colaboratory.intrinsic+json": {
              "type": "string"
            },
            "text/plain": [
              "'The length of the paper necessary to reach a thickness of 14235000m is: 1326244446310933760m'"
            ]
          },
          "metadata": {
            "tags": []
          },
          "execution_count": 59
        }
      ]
    },
    {
      "cell_type": "code",
      "metadata": {
        "colab": {
          "base_uri": "https://localhost:8080/",
          "height": 35
        },
        "id": "MAljoTGwxxvh",
        "outputId": "d162fe42-f044-4f09-da1e-bd7290a7a389"
      },
      "source": [
        "#length of paper needed to reach Alpha Centauri, closest star to the sun\r\n",
        "paper_length(41320000000000000000)"
      ],
      "execution_count": 60,
      "outputs": [
        {
          "output_type": "execute_result",
          "data": {
            "application/vnd.google.colaboratory.intrinsic+json": {
              "type": "string"
            },
            "text/plain": [
              "'The length of the paper necessary to reach a thickness of 41320000000000000000m is: 11174529877088318617763684719386290288590848m'"
            ]
          },
          "metadata": {
            "tags": []
          },
          "execution_count": 60
        }
      ]
    }
  ]
}